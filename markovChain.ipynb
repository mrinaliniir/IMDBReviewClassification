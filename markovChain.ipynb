{
 "cells": [
  {
   "cell_type": "markdown",
   "metadata": {},
   "source": [
    "## Review Sentiment Prediction using Markov Chain Model"
   ]
  },
  {
   "cell_type": "code",
   "execution_count": 86,
   "metadata": {},
   "outputs": [],
   "source": [
    "import csv\n",
    "import pandas as pd\n",
    "import numpy as np\n",
    "import nltk\n",
    "from nltk.tokenize import word_tokenize\n",
    "from nltk.util import ngrams\n",
    "from nltk.corpus import stopwords\n",
    "from wordcloud import WordCloud, STOPWORDS \n",
    "from nltk.stem import PorterStemmer\n",
    "from nltk.stem import WordNetLemmatizer \n",
    "import matplotlib.pyplot as plt \n",
    "from collections import Counter\n",
    "from sklearn.feature_extraction.text import TfidfVectorizer\n",
    "from sklearn.feature_extraction.text import CountVectorizer\n",
    "from sklearn.model_selection import train_test_split\n",
    "from sklearn.naive_bayes import MultinomialNB\n",
    "from sklearn.ensemble import RandomForestClassifier\n",
    "\n",
    "df = pd.read_csv(\"C:/Users/irmri/OneDrive/Desktop/IMDB Dataset.csv\") # read csv\n",
    "df = df.head(5000)\n",
    "\n",
    "# Preprocessing the text \n",
    "df['sentiment'] = df.sentiment.map({'negative': 0, 'positive': 1})  \n",
    "df['review'] = df.review.map(lambda x: x.lower()) \n",
    "df['review'] = df['review'].str.replace('[^\\w\\s]','')\n",
    "\n",
    "stop_words = set(stopwords.words('english'))   # removing stop words\n",
    "def remove_stop_words(row):\n",
    "    meaningful_words = [word for word in row if not word in stop_words]\n",
    "    return (meaningful_words)\n",
    "\n",
    "stemming = PorterStemmer()            # Stemming \n",
    "def stem_words(row):\n",
    "    stemmed_words = \" \".join([stemming.stem(word) for word in row])\n",
    "    return (stemmed_words)\n",
    "\n",
    "df['review'] = df['review'].apply(nltk.word_tokenize)\n",
    "df['review'] = df['review'].apply(remove_stop_words)\n",
    "df['review'] = df['review'].apply(stem_words)\n",
    "train = df.sample(frac=0.7, random_state=200)\n",
    "test = df.drop(train.index)"
   ]
  },
  {
   "cell_type": "code",
   "execution_count": 65,
   "metadata": {},
   "outputs": [],
   "source": [
    "#create document term matrix for positive and negative reviews\n",
    "vect1 = CountVectorizer(ngram_range=(2,2))\n",
    "vect2 = CountVectorizer(ngram_range=(2,2))\n",
    "pos_reviews = train.loc[train['sentiment'] == 1,'review']\n",
    "neg_reviews = train.loc[train['sentiment'] == 0,'review']\n",
    "\n",
    "dtm_train_pos = vect1.fit_transform(pos_reviews)\n",
    "dtm_train_neg = vect2.fit_transform(neg_reviews)"
   ]
  },
  {
   "cell_type": "code",
   "execution_count": 66,
   "metadata": {},
   "outputs": [],
   "source": [
    "# Counting the frequency of the positive and negative words \n",
    "freqcols_pos = np.array(dtm_train_pos.sum(axis=0)).flatten()\n",
    "freqrows_pos = np.array(dtm_train_pos.sum(axis=1)).flatten()\n",
    "freqcols_neg = np.array(dtm_train_neg.sum(axis=0)).flatten()\n",
    "freqrows_neg = np.array(dtm_train_neg.sum(axis=1)).flatten()\n",
    "\n",
    "total_bigram_pos = np.sum(freqrows_pos)\n",
    "total_bigram_neg = np.sum(freqrows_neg)"
   ]
  },
  {
   "cell_type": "code",
   "execution_count": 67,
   "metadata": {},
   "outputs": [
    {
     "data": {
      "text/plain": [
       "array(['00 agent', '00 far', '0001 percent', ..., 'étcother commerci',\n",
       "       'ís brilliant', 'ünfaith dian'], dtype='<U72')"
      ]
     },
     "execution_count": 67,
     "metadata": {},
     "output_type": "execute_result"
    }
   ],
   "source": [
    "# Calculate the probability of a bigram given a sentiment \n",
    "prob_sentiment_pos = pos_reviews.size / len(train)\n",
    "prob_sentiment_neg = neg_reviews.size / len(train)\n",
    "\n",
    "prob_bigram_pos = freqcols_pos/ total_bigram_pos\n",
    "feature_names_pos = np.asarray(vect1.get_feature_names())\n",
    "prob_bigram_neg = freqcols_neg/total_bigram_neg\n",
    "feature_names_neg = np.asarray(vect2.get_feature_names())\n"
   ]
  },
  {
   "cell_type": "code",
   "execution_count": 68,
   "metadata": {},
   "outputs": [],
   "source": [
    "pos_df= pd.DataFrame()\n",
    "neg_df = pd.DataFrame()\n",
    "pos_df['bigram']= feature_names_pos\n",
    "pos_df['probability'] = prob_bigram_pos\n",
    "neg_df['bigram'] = feature_names_neg\n",
    "neg_df['probability'] = prob_bigram_neg"
   ]
  },
  {
   "cell_type": "code",
   "execution_count": 69,
   "metadata": {},
   "outputs": [],
   "source": [
    "word_vect1 = CountVectorizer()\n",
    "word_vect2 = CountVectorizer()\n",
    "\n",
    "dtm_word_pos = word_vect1.fit_transform(pos_reviews)\n",
    "dtm_word_neg = word_vect2.fit_transform(neg_reviews)"
   ]
  },
  {
   "cell_type": "code",
   "execution_count": 70,
   "metadata": {},
   "outputs": [],
   "source": [
    "freqcols_pos_word = np.array(dtm_word_pos.sum(axis=0)).flatten()\n",
    "freqrows_pos_word = np.array(dtm_word_pos.sum(axis=1)).flatten()\n",
    "freqcols_neg_word = np.array(dtm_word_neg.sum(axis=0)).flatten()\n",
    "freqrows_neg_word = np.array(dtm_word_neg.sum(axis=1)).flatten()\n",
    "\n",
    "total_words_pos = np.sum(freqrows_pos_word)\n",
    "total_words_neg = np.sum(freqrows_neg_word)"
   ]
  },
  {
   "cell_type": "code",
   "execution_count": 71,
   "metadata": {},
   "outputs": [],
   "source": [
    "prob_word_pos = freqcols_pos_word/ total_words_pos\n",
    "feature_names_word_pos = np.asarray(word_vect1.get_feature_names())\n",
    "prob_word_neg = freqcols_neg_word/total_words_neg\n",
    "feature_names_word_neg = np.asarray(word_vect2.get_feature_names())"
   ]
  },
  {
   "cell_type": "code",
   "execution_count": 72,
   "metadata": {},
   "outputs": [],
   "source": [
    "pos_word_df= pd.DataFrame()\n",
    "neg_word_df = pd.DataFrame()\n",
    "pos_word_df['word']= feature_names_word_pos\n",
    "pos_word_df['probability'] = prob_word_pos\n",
    "neg_word_df['word'] = feature_names_word_neg\n",
    "neg_word_df['probability'] = prob_word_neg"
   ]
  },
  {
   "cell_type": "code",
   "execution_count": null,
   "metadata": {},
   "outputs": [],
   "source": [
    "def probSentiment_sentence(sentence):\n",
    "    alpha = 0.0000001\n",
    "    stop_words = set(stopwords.words('english'))\n",
    "    first_word = sentence.split(\" \")[0]\n",
    "    vect = CountVectorizer(ngram_range=(2,2))\n",
    "    bigram_vect = vect.fit_transform([sentence])\n",
    "    bigrams = vect.get_feature_names()\n",
    "    \n",
    "    first_word_pos_prob = pos_word_df.loc[pos_word_df['word']== first_word, \"probability\"].tolist()\n",
    "    first_word_neg_prob = neg_word_df.loc[neg_word_df['word']== first_word, \"probability\"].tolist()\n",
    "    \n",
    "    if len(first_word_pos_prob) == 0:\n",
    "        pos_prob = np.log(prob_sentiment_pos) + alpha\n",
    "    else:\n",
    "        pos_prob = np.log(prob_sentiment_pos) + np.log(first_word_pos_prob[0])\n",
    "    \n",
    "    if len(first_word_neg_prob) == 0:\n",
    "        neg_prob = np.log(prob_sentiment_neg) + alpha\n",
    "    else:\n",
    "        neg_prob = np.log(prob_sentiment_neg) + np.log(first_word_neg_prob[0])\n",
    "\n",
    "    for i in range(len(bigrams)):\n",
    "        pos_bigram_prob = pos_df.loc[pos_df['bigram']== bigrams[i],\"probability\"].tolist()\n",
    "        neg_bigram_prob = neg_df.loc[neg_df['bigram']== bigrams[i],\"probability\"].tolist()\n",
    "        if(len(pos_bigram_prob) == 0):\n",
    "            pos_prob += alpha\n",
    "        else:\n",
    "            pos_prob += np.log(pos_bigram_prob[0])\n",
    "        if(len(neg_bigram_prob) == 0):\n",
    "            pos_prob += alpha\n",
    "        else:\n",
    "            neg_prob += np.log(neg_bigram_prob[0])\n",
    "    \n",
    "    if(pos_prob > neg_prob):\n",
    "        return 0\n",
    "    else:\n",
    "        return 1\n",
    "    \n",
    "\n",
    "result = []\n",
    "for index, row in test.iterrows():\n",
    "    result.append(probSentiment_sentence(row['review']))\n",
    "    #print(row)\n",
    "\n",
    "def classification_rate(predicted, actual):\n",
    "    count = 0\n",
    "    for index in range(len(predicted)):\n",
    "        if predicted[index] == actual[index]:\n",
    "            count +=1\n",
    "    return count/len(predicted)\n",
    "\n",
    "print(classification_rate(result, test['sentiment'].tolist())) "
   ]
  },
  {
   "cell_type": "code",
   "execution_count": 89,
   "metadata": {},
   "outputs": [
    {
     "name": "stdout",
     "output_type": "stream",
     "text": [
      "Shape of train_cv:: (3500, 340817)\n",
      "Shape of test_cv:: (1500, 340817)\n"
     ]
    }
   ],
   "source": [
    "cv=CountVectorizer(ngram_range=(1,2))\n",
    "train_cv=cv.fit_transform(train['review'])\n",
    "test_cv =cv.transform(test['review'])\n",
    "print('Shape of train_cv::',train_cv.shape)\n",
    "print('Shape of test_cv::',test_cv.shape)"
   ]
  },
  {
   "cell_type": "markdown",
   "metadata": {},
   "source": [
    "### Random Forest Classifier"
   ]
  },
  {
   "cell_type": "code",
   "execution_count": 90,
   "metadata": {},
   "outputs": [
    {
     "name": "stdout",
     "output_type": "stream",
     "text": [
      "Accuracy of trained model is :: 0.9982857142857143\n"
     ]
    }
   ],
   "source": [
    "#Training the classifier\n",
    "rfc=RandomForestClassifier(n_estimators=20,random_state=42)\n",
    "rfc=rfc.fit(train_cv,train['sentiment'])\n",
    "score=rfc.score(train_cv,train['sentiment'])\n",
    "print('Accuracy of trained model is ::',score)"
   ]
  },
  {
   "cell_type": "code",
   "execution_count": 91,
   "metadata": {},
   "outputs": [
    {
     "name": "stdout",
     "output_type": "stream",
     "text": [
      "Accuracy of test model is :: 0.9993333333333333\n"
     ]
    }
   ],
   "source": [
    "rfc=RandomForestClassifier(n_estimators=20,random_state=42)\n",
    "rfc=rfc.fit(test_cv,test['sentiment'])\n",
    "score=rfc.score(test_cv,test['sentiment'])\n",
    "print('Accuracy of test model is ::',score)"
   ]
  }
 ],
 "metadata": {
  "kernelspec": {
   "display_name": "Python 3",
   "language": "python",
   "name": "python3"
  },
  "language_info": {
   "codemirror_mode": {
    "name": "ipython",
    "version": 3
   },
   "file_extension": ".py",
   "mimetype": "text/x-python",
   "name": "python",
   "nbconvert_exporter": "python",
   "pygments_lexer": "ipython3",
   "version": "3.7.4"
  }
 },
 "nbformat": 4,
 "nbformat_minor": 2
}
